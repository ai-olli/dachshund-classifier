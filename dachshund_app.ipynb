{
 "cells": [
  {
   "cell_type": "markdown",
   "id": "007e6f0a",
   "metadata": {},
   "source": [
    "# Dachshund  - short or long hair?\n",
    "Press the upload button below to upload your image and then click \"Predict\" to let the deep learning algorithm predict if your image contains a short or long haired dachshund."
   ]
  },
  {
   "cell_type": "code",
   "execution_count": 16,
   "id": "4a1f2a2b",
   "metadata": {},
   "outputs": [],
   "source": [
    "from fastai.vision.all import *\n",
    "from fastai.vision.widgets import *"
   ]
  },
  {
   "cell_type": "code",
   "execution_count": 17,
   "id": "318bd6b4",
   "metadata": {},
   "outputs": [
    {
     "data": {
      "application/vnd.jupyter.widget-view+json": {
       "model_id": "b243f95e03fc4d29b88ccebc3337c803",
       "version_major": 2,
       "version_minor": 0
      },
      "text/plain": [
       "Image(value=b'\\xff\\xd8\\xff\\xe0\\x00\\x10JFIF\\x00\\x01\\x01\\x01\\x00H\\x00H\\x00\\x00\\xff\\xe1\\x068Exif\\x00\\x00MM\\x00*\\x…"
      ]
     },
     "metadata": {},
     "output_type": "display_data"
    }
   ],
   "source": [
    "file = open(\"images/toby.jpeg\", \"rb\")\n",
    "image = file.read()\n",
    "img_toby = widgets.Image(\n",
    "    value=image,\n",
    "    format='jpeg',\n",
    ")\n",
    "img_toby"
   ]
  },
  {
   "cell_type": "code",
   "execution_count": 23,
   "id": "5ac33811",
   "metadata": {},
   "outputs": [],
   "source": [
    "path = Path()\n",
    "learn_inf = load_learner(path/'export-dachshunds.pkl', cpu=True)\n",
    "btn_upload = widgets.FileUpload(description='Upload image', multiple=False, layout=Layout(width='200px', height='50px'))\n",
    "out_pl = widgets.Output()\n",
    "lbl_pred = widgets.Label()\n",
    "btn_predict = widgets.Button(description='Predict', layout=Layout(width='100px', height='50px'))"
   ]
  },
  {
   "cell_type": "code",
   "execution_count": 24,
   "id": "8bd90d56",
   "metadata": {},
   "outputs": [],
   "source": [
    "def on_select_image(change):\n",
    "    lbl_pred.value = ''\n",
    "    img = PILImage.create(btn_upload.data[-1])\n",
    "    out_pl.clear_output()\n",
    "    with out_pl: display(img.to_thumb(128,128))"
   ]
  },
  {
   "cell_type": "code",
   "execution_count": 25,
   "id": "501f1adc",
   "metadata": {},
   "outputs": [],
   "source": [
    "def on_click_classify(change):\n",
    "    img = PILImage.create(btn_upload.data[-1])\n",
    "    pred,pred_idx,probs = learn_inf.predict(img)\n",
    "    lbl_pred.value = f'Prediction: This dachshund is {pred} haired; Probability: {probs[pred_idx]:.04f}'"
   ]
  },
  {
   "cell_type": "code",
   "execution_count": 26,
   "id": "9ed47fb7",
   "metadata": {},
   "outputs": [],
   "source": [
    "btn_upload.observe(on_select_image, names=['data'])\n",
    "btn_predict.on_click(on_click_classify)"
   ]
  },
  {
   "cell_type": "code",
   "execution_count": 27,
   "id": "57230a7c",
   "metadata": {},
   "outputs": [
    {
     "data": {
      "application/vnd.jupyter.widget-view+json": {
       "model_id": "1eaf6148fd914e0e8e404021c4e6f566",
       "version_major": 2,
       "version_minor": 0
      },
      "text/plain": [
       "VBox(children=(Label(value='Upload any dachshund picture'), FileUpload(value={}, description='Upload image', l…"
      ]
     },
     "metadata": {},
     "output_type": "display_data"
    },
    {
     "data": {
      "text/html": [],
      "text/plain": [
       "<IPython.core.display.HTML object>"
      ]
     },
     "metadata": {},
     "output_type": "display_data"
    }
   ],
   "source": [
    "display(VBox([widgets.Label('Upload any dachshund picture'), btn_upload, out_pl, btn_predict, lbl_pred]))"
   ]
  },
  {
   "cell_type": "code",
   "execution_count": null,
   "id": "38259876",
   "metadata": {},
   "outputs": [],
   "source": []
  }
 ],
 "metadata": {
  "kernelspec": {
   "display_name": "Python 3",
   "language": "python",
   "name": "python3"
  },
  "language_info": {
   "codemirror_mode": {
    "name": "ipython",
    "version": 3
   },
   "file_extension": ".py",
   "mimetype": "text/x-python",
   "name": "python",
   "nbconvert_exporter": "python",
   "pygments_lexer": "ipython3",
   "version": "3.8.8"
  }
 },
 "nbformat": 4,
 "nbformat_minor": 5
}
